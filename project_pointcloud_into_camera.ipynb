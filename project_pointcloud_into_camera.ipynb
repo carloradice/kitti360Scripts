{
 "cells": [
  {
   "cell_type": "code",
   "execution_count": 51,
   "id": "c87fc6d4",
   "metadata": {},
   "outputs": [],
   "source": [
    "import numpy as np\n",
    "import open3d as o3d"
   ]
  },
  {
   "cell_type": "code",
   "execution_count": 63,
   "id": "5d240813",
   "metadata": {},
   "outputs": [],
   "source": [
    "FILE = '/home/carlo/Documents/datasets/kitti-360//2013_05_28_drive_0000_sync_000386_000450/lidar_points_all.dat'\n",
    "IMMAGINE = '/home/carlo/Documents/datasets/kitti-360/data_2d_raw/2013_05_28_drive_0000_sync/image_00/data_rect/0000000386.png'"
   ]
  },
  {
   "cell_type": "code",
   "execution_count": 53,
   "id": "4562c2b9",
   "metadata": {},
   "outputs": [],
   "source": [
    "sed = np.loadtxt(FILE, unpack = True)"
   ]
  },
  {
   "cell_type": "code",
   "execution_count": 54,
   "id": "2e42cdf5",
   "metadata": {},
   "outputs": [
    {
     "data": {
      "text/plain": [
       "(6, 362377)"
      ]
     },
     "execution_count": 54,
     "metadata": {},
     "output_type": "execute_result"
    }
   ],
   "source": [
    "sed.shape"
   ]
  },
  {
   "cell_type": "code",
   "execution_count": 55,
   "id": "62a62d90",
   "metadata": {},
   "outputs": [],
   "source": [
    "pcl = o3d.PointCloud()"
   ]
  },
  {
   "cell_type": "code",
   "execution_count": 56,
   "id": "f3013e9e",
   "metadata": {},
   "outputs": [
    {
     "data": {
      "text/plain": [
       "(3, 362377)"
      ]
     },
     "execution_count": 56,
     "metadata": {},
     "output_type": "execute_result"
    }
   ],
   "source": [
    "p = sed[:3, :]\n",
    "p.shape"
   ]
  },
  {
   "cell_type": "code",
   "execution_count": 57,
   "id": "06509402",
   "metadata": {},
   "outputs": [],
   "source": [
    "pose = np.array([0.6337552899, 0.7735143891, -0.0054518216, 977.5746237, \n",
    "                 0.7734979431, -0.6337780079, -0.0051350568, 3802.045638,\n",
    "                 -0.007427285, -0.0009626034, -0.999971954, 115.0822819,\n",
    "                0,0,0,1])\n",
    "pose = pose.reshape((4, 4))\n",
    "pcl_origin = o3d.PointCloud()"
   ]
  },
  {
   "cell_type": "code",
   "execution_count": 58,
   "id": "484ee4f5",
   "metadata": {},
   "outputs": [],
   "source": [
    "pose2 = np.array([])"
   ]
  },
  {
   "cell_type": "code",
   "execution_count": 59,
   "id": "3b2e4669",
   "metadata": {},
   "outputs": [],
   "source": [
    "calib = np.array([0.0371783278, -0.0986182135, 0.9944306009, 1.5752681039,\n",
    "                  0.9992675562, -0.0053553387, -0.0378902567, 0.0043914093,\n",
    "                  0.0090621821, 0.9951109327, 0.0983468786, -0.6500000000,\n",
    "                 0,0,0,1])\n",
    "calib = calib.reshape((4,4))\n",
    "points_num = p.shape[1]\n",
    "new_pts = np.vstack((p, np.ones((1, points_num))))"
   ]
  },
  {
   "cell_type": "code",
   "execution_count": 60,
   "id": "ed20835f",
   "metadata": {},
   "outputs": [],
   "source": [
    "new_pts = np.dot(np.linalg.inv(pose), new_pts)\n",
    "pcl_origin.points = o3d.Vector3dVector(new_pts[:3, :].T)\n",
    "masd = o3d.geometry.create_mesh_coordinate_frame(\n",
    "    size=5, origin=[0., 0., 0.])\n",
    "# pointcloud nel sistema di coordinate velodyne del primo frame considerato, guardare quella pose (386)\n",
    "o3d.visualization.draw_geometries([pcl_origin, masd])"
   ]
  },
  {
   "cell_type": "code",
   "execution_count": 61,
   "id": "c506f5de",
   "metadata": {},
   "outputs": [],
   "source": [
    "camera_pts = np.dot(np.linalg.inv(calib), new_pts)\n",
    "camera_pts = camera_pts[:3, :].T\n",
    "pcl2 = o3d.PointCloud()\n",
    "pcl2.points = o3d.Vector3dVector(camera_pts)\n",
    "mesh_frame = o3d.geometry.create_mesh_coordinate_frame(\n",
    "    size=10, origin=[0., 0., 0.])"
   ]
  },
  {
   "cell_type": "code",
   "execution_count": 103,
   "id": "34290796",
   "metadata": {},
   "outputs": [],
   "source": [
    "# pointcloud nel sistema di coordianate camera per la pose (386)\n",
    "o3d.visualization.draw_geometries([pcl2, mesh_frame])"
   ]
  },
  {
   "cell_type": "code",
   "execution_count": 65,
   "id": "b29a0216",
   "metadata": {},
   "outputs": [
    {
     "name": "stdout",
     "output_type": "stream",
     "text": [
      "(362377, 3)\n"
     ]
    }
   ],
   "source": [
    "print(camera_pts.shape)"
   ]
  },
  {
   "cell_type": "code",
   "execution_count": 100,
   "id": "a33cea74",
   "metadata": {},
   "outputs": [
    {
     "data": {
      "text/plain": [
       "array([[552.554261,   0.      , 682.049453,   0.      ],\n",
       "       [  0.      , 552.554261, 238.769549,   0.      ],\n",
       "       [  0.      ,   0.      ,   1.      ,   0.      ]])"
      ]
     },
     "execution_count": 100,
     "metadata": {},
     "output_type": "execute_result"
    }
   ],
   "source": [
    "# proiezione nel frame immagine Camera 0 prect0\n",
    "k = np.array([552.554261, 0.000000, 682.049453, 0.000000, \n",
    "              0.000000, 552.554261, 238.769549, 0.000000, \n",
    "              0.000000, 0.000000, 1.000000, 0.000000])\n",
    "k = k.reshape((3,4))\n",
    "k"
   ]
  },
  {
   "cell_type": "code",
   "execution_count": 101,
   "id": "8f5d0191",
   "metadata": {},
   "outputs": [
    {
     "data": {
      "text/plain": [
       "(1, 3, 362377)"
      ]
     },
     "execution_count": 101,
     "metadata": {},
     "output_type": "execute_result"
    }
   ],
   "source": [
    "in_camera_pts = np.expand_dims(camera_pts.T, 0)\n",
    "in_camera_pts.shape"
   ]
  },
  {
   "cell_type": "code",
   "execution_count": 102,
   "id": "41648280",
   "metadata": {},
   "outputs": [
    {
     "data": {
      "text/plain": [
       "array([[[552.554261,   0.      , 682.049453],\n",
       "        [  0.      , 552.554261, 238.769549],\n",
       "        [  0.      ,   0.      ,   1.      ]]])"
      ]
     },
     "execution_count": 102,
     "metadata": {},
     "output_type": "execute_result"
    }
   ],
   "source": [
    "k[:3,:3].reshape([1,3,3])"
   ]
  },
  {
   "cell_type": "code",
   "execution_count": 73,
   "id": "00442fb8",
   "metadata": {},
   "outputs": [
    {
     "name": "stderr",
     "output_type": "stream",
     "text": [
      "/home/carlo/anaconda3/envs/jupyter/lib/python3.7/site-packages/ipykernel_launcher.py:4: DeprecationWarning: `np.int` is a deprecated alias for the builtin `int`. To silence this warning, use `int` by itself. Doing this will not modify any behavior and is safe. When replacing `np.int`, you may wish to use e.g. `np.int64` or `np.int32` to specify the precision. If you wish to review your current use, check the release note link for additional information.\n",
      "Deprecated in NumPy 1.20; for more details and guidance: https://numpy.org/devdocs/release/1.20.0-notes.html#deprecations\n",
      "  after removing the cwd from sys.path.\n",
      "/home/carlo/anaconda3/envs/jupyter/lib/python3.7/site-packages/ipykernel_launcher.py:5: DeprecationWarning: `np.int` is a deprecated alias for the builtin `int`. To silence this warning, use `int` by itself. Doing this will not modify any behavior and is safe. When replacing `np.int`, you may wish to use e.g. `np.int64` or `np.int32` to specify the precision. If you wish to review your current use, check the release note link for additional information.\n",
      "Deprecated in NumPy 1.20; for more details and guidance: https://numpy.org/devdocs/release/1.20.0-notes.html#deprecations\n",
      "  \"\"\"\n"
     ]
    }
   ],
   "source": [
    "points_proj = np.matmul(k[:3,:3].reshape([1,3,3]), in_camera_pts)\n",
    "depth = points_proj[:,2,:]\n",
    "depth[depth==0] = -1e-6\n",
    "u = np.round(points_proj[:,0,:]/np.abs(depth)).astype(np.int)\n",
    "v = np.round(points_proj[:,1,:]/np.abs(depth)).astype(np.int)\n",
    "\n",
    "u = u[0]\n",
    "v = v[0]\n",
    "depth = depth[0]"
   ]
  },
  {
   "cell_type": "code",
   "execution_count": 104,
   "id": "53917a6c",
   "metadata": {},
   "outputs": [
    {
     "data": {
      "text/plain": [
       "(376, 1408)"
      ]
     },
     "execution_count": 104,
     "metadata": {},
     "output_type": "execute_result"
    }
   ],
   "source": [
    "depthMap = np.zeros((376, 1408))\n",
    "depthImage = np.zeros((376, 1408, 3))\n",
    "# valore della dimensione\n",
    "mask = np.logical_and(np.logical_and(np.logical_and(u>=0, u<1408), v>=0), v<376)\n",
    "# valore di profondita\n",
    "mask = np.logical_and(np.logical_and(mask, depth>0), depth<35)\n",
    "depthMap[v[mask],u[mask]] = depth[mask]\n",
    "\n",
    "depthMap.shape"
   ]
  },
  {
   "cell_type": "code",
   "execution_count": 105,
   "id": "8df51568",
   "metadata": {},
   "outputs": [
    {
     "data": {
      "image/png": "[encoded data removed]",
      "text/plain": [
       "<Figure size 432x288 with 1 Axes>"
      ]
     },
     "metadata": {
      "needs_background": "light"
     },
     "output_type": "display_data"
    }
   ],
   "source": [
    "plt.imshow(depthMap, interpolation='nearest')\n",
    "plt.show()"
   ]
  }
 ],
 "metadata": {
  "kernelspec": {
   "display_name": "Python 3",
   "language": "python",
   "name": "python3"
  },
  "language_info": {
   "codemirror_mode": {
    "name": "ipython",
    "version": 3
   },
   "file_extension": ".py",
   "mimetype": "text/x-python",
   "name": "python",
   "nbconvert_exporter": "python",
   "pygments_lexer": "ipython3",
   "version": "3.7.10"
  }
 },
 "nbformat": 4,
 "nbformat_minor": 5
}
